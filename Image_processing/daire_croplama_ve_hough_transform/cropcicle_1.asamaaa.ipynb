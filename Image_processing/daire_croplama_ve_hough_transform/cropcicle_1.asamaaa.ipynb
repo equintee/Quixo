{
 "cells": [
  {
   "cell_type": "code",
   "execution_count": 2,
   "metadata": {},
   "outputs": [
    {
     "name": "stdout",
     "output_type": "stream",
     "text": [
      "height 672\n",
      "width 504\n"
     ]
    },
    {
     "data": {
      "text/plain": [
       "-1"
      ]
     },
     "execution_count": 2,
     "metadata": {},
     "output_type": "execute_result"
    }
   ],
   "source": [
    "import cv2 \n",
    "import numpy as np\n",
    "from collections import defaultdict\n",
    "import sys\n",
    "import imutils\n",
    "import matplotlib.pyplot as plt\n",
    "import math\n",
    "\n",
    "\n",
    "# get image\n",
    "img = cv2.imread('faces_imgs/deneme12.png')\n",
    " \n",
    "# get width and height\n",
    "hei = 504\n",
    "wid = 672\n",
    "  \n",
    "\n",
    "img = cv2.resize(img, (hei,wid))\n",
    "image = np.copy(img) \n",
    "height, width = img.shape[:2]\n",
    "print(\"height\",height )\n",
    "print(\"width\",width )\n",
    "gray = cv2.cvtColor(img, cv2.COLOR_BGR2GRAY)\n",
    "gray_blurred = cv2.bilateralFilter(gray, 11, 30, 30)\n",
    "\n",
    "# tune circles size\n",
    "detected_circles = cv2.HoughCircles(gray_blurred,\n",
    "                                    cv2.HOUGH_GRADIENT,1,\n",
    "                                    param1=50,\n",
    "                                    param2=30,\n",
    "                                    minDist=1000,\n",
    "                                    minRadius=150,\n",
    "                                    maxRadius=252)\n",
    "\n",
    "if detected_circles is not None:\n",
    "    # Convert the circle parameters a, b and r to integers.\n",
    "    detected_circles = np.uint16(np.around(detected_circles))\n",
    "\n",
    "\n",
    "    for pt in detected_circles[0, :]:\n",
    "        a, b, r = pt[0], pt[1], pt[2]\n",
    "\n",
    "       \n",
    "\n",
    "       \n",
    "    \n",
    "\n",
    "for y in range(height):\n",
    "    for x in range(width):\n",
    "        if (x - a) ** 2 + (y - b) ** 2 >= r ** 2:\n",
    "            img[y][x] = [255, 255, 255]\n",
    "              \n",
    "\n",
    "cv2.imshow(\"Detected circles\", img)\n",
    "cv2.waitKey(0)"
   ]
  },
  {
   "cell_type": "code",
   "execution_count": null,
   "metadata": {},
   "outputs": [],
   "source": []
  }
 ],
 "metadata": {
  "kernelspec": {
   "display_name": "Python 3",
   "language": "python",
   "name": "python3"
  },
  "language_info": {
   "codemirror_mode": {
    "name": "ipython",
    "version": 3
   },
   "file_extension": ".py",
   "mimetype": "text/x-python",
   "name": "python",
   "nbconvert_exporter": "python",
   "pygments_lexer": "ipython3",
   "version": "3.7.6"
  }
 },
 "nbformat": 4,
 "nbformat_minor": 4
}
